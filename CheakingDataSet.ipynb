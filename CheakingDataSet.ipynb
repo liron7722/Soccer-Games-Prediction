{
 "cells": [
  {
   "cell_type": "markdown",
   "metadata": {},
   "source": [
    "## Cheaking the DataSet"
   ]
  },
  {
   "cell_type": "markdown",
   "metadata": {},
   "source": [
    "### Function and imports"
   ]
  },
  {
   "cell_type": "code",
   "execution_count": 1,
   "metadata": {},
   "outputs": [],
   "source": [
    "from time import time\n",
    "\n",
    "from sklearn.metrics import r2_score\n",
    "from sklearn.naive_bayes import GaussianNB\n",
    "from sklearn.metrics import mean_squared_error\n",
    "from sklearn.tree import DecisionTreeClassifier\n",
    "from sklearn.model_selection import GridSearchCV\n",
    "from sklearn.ensemble import RandomForestRegressor\n",
    "from sklearn.neighbors import KNeighborsClassifier\n",
    "from sklearn.model_selection import cross_val_score\n",
    "from sklearn.model_selection import train_test_split\n",
    "from sklearn.metrics import confusion_matrix, classification_report"
   ]
  },
  {
   "cell_type": "code",
   "execution_count": null,
   "metadata": {},
   "outputs": [],
   "source": [
    "data = pd.read_csv('projectdata.csv')\n",
    "data.describe()"
   ]
  },
  {
   "cell_type": "markdown",
   "metadata": {
    "heading_collapsed": true
   },
   "source": [
    "### Corr, clustermap and pairplot"
   ]
  },
  {
   "cell_type": "code",
   "execution_count": null,
   "metadata": {
    "hidden": true
   },
   "outputs": [],
   "source": [
    "#removal of non relevant columns\n",
    "colToDrop = ['Date','HomeTeam','AwayTeam','FTR','HTGD','HTR','Referee']\n",
    "#df_for_corr = data.drop(colToDrop, axis=1)\n",
    "#df_for_corr.describe()"
   ]
  },
  {
   "cell_type": "code",
   "execution_count": null,
   "metadata": {
    "hidden": true
   },
   "outputs": [],
   "source": [
    "#mask = np.zeros_like(df_for_corr.corr(),dtype=np.bool)\n",
    "#mask[np.triu_indices_from(mask)] = True\n",
    "#cmap = sns.diverging_palette(10,150,as_cmap=True)\n",
    "\n",
    "#plt.figure(figsize=(18,18))\n",
    "#sns.heatmap(df_for_corr.corr(),cmap=cmap,annot=True,mask = mask,square = True,center = 0)\n",
    "#plt.title('Correlation Matrix',size=20)\n",
    "#plt.show()"
   ]
  },
  {
   "cell_type": "code",
   "execution_count": null,
   "metadata": {
    "hidden": true
   },
   "outputs": [],
   "source": [
    "#sns.clustermap(data.drop(colToDrop, axis=1), standard_scale=1)\n",
    "#plt.show()"
   ]
  },
  {
   "cell_type": "code",
   "execution_count": null,
   "metadata": {
    "hidden": true
   },
   "outputs": [],
   "source": [
    "#corr_features = df_for_corr.columns\n",
    "#sns.pairplot(data=df_for_corr)\n",
    "#plt.show()"
   ]
  },
  {
   "cell_type": "markdown",
   "metadata": {},
   "source": [
    "### Prediction Functions"
   ]
  },
  {
   "cell_type": "code",
   "execution_count": null,
   "metadata": {},
   "outputs": [],
   "source": [
    "def generate_CDF(data):\n",
    "\n",
    "    data_counts = data.value_counts().sort_index()\n",
    "    data_counts /= np.sum(data_counts.values)\n",
    "    data_indice_list = data_counts.index\n",
    "    data_counts = data_counts.reset_index().drop('index',axis=1)\n",
    "    CDF = np.zeros(len(data_counts))\n",
    "    CDF[0] = data_counts.iloc[0,0]\n",
    "\n",
    "    for i in range(1, len(data_counts)):\n",
    "        CDF[i] = CDF[i-1] + data_counts.iloc[i,0]\n",
    "    return CDF, data_indice_list\n",
    "\n",
    "target = 'FTGD'\n",
    "feature_vector = data.columns[data.columns != target]\n",
    "\n",
    "X = data[feature_vector].values\n",
    "shares = data[target]\n",
    "med = shares.median()\n",
    "y = shares.apply(lambda x: 1 if x >  med else 0)\n",
    "\n",
    "shares_CDF, indice_list = generate_CDF(shares)\n",
    "\n",
    "plt.figure(figsize=(12,5))\n",
    "plt.plot(indice_list.values, shares_CDF ,color='blue',marker='o', label='Shares')\n",
    "plt.legend()\n",
    "plt.title(\"Shares Cumulative Distribution Function\", size=15)\n",
    "plt.ylabel(\"Percentage %\", size=15)\n",
    "plt.xlabel(\"Num of Shares\", size=15)\n",
    "plt.grid()\n",
    "plt.show()"
   ]
  },
  {
   "cell_type": "code",
   "execution_count": null,
   "metadata": {},
   "outputs": [],
   "source": [
    "def training(df, target):\n",
    "    train = df.drop(colToDrop, axis=1)\n",
    "    train.apply(pd.to_numeric)\n",
    "    train= train.fillna(0)\n",
    "    X = train.drop([target], axis=1).values\n",
    "    y = train[target].values\n",
    "    X_train, X_test, y_train, y_test = train_test_split(X, y, test_size=0.2, random_state=42)\n",
    "    X_train, X_val, y_train, y_val = train_test_split(X_train, y_train, test_size=0.2, random_state=1)\n",
    "    return train, X_train, X_test, X_val, y_train, y_test, y_val"
   ]
  },
  {
   "cell_type": "code",
   "execution_count": null,
   "metadata": {},
   "outputs": [],
   "source": [
    "#Decision Tree Classifier\n",
    "def DTC(X_train, y_train, print_Flag):\n",
    "    global newData\n",
    "    global colToDropForPred\n",
    "    \n",
    "    hyperparams = {\"max_depth\":[5,10,15], \"min_samples_split\":[3,5,7]}  \n",
    "    tree_clf = DecisionTreeClassifier()  \n",
    "    clf = GridSearchCV(tree_clf, hyperparams, cv=5, n_jobs=-1, verbose=True) \n",
    "    t1 = time()\n",
    "    clf.fit(X_train, y_train)\n",
    "    print(\"It took {:.2f} seconds\".format(time() - t1))\n",
    "    \n",
    "    y_pred = clf.predict(X_test)\n",
    "    \n",
    "    if print_Flag:\n",
    "        print('----------Decision Tree Classifier----------')\n",
    "        print(\"ACCURACY SCORE: \", clf.score(X_test, y_test))\n",
    "        print(\"CROSS VALIDATION ACCURACY SCORE: \", clf.best_score_)\n",
    "        print(\"BEST PARAMETERS: \", clf.best_params_)\n",
    "        print(\"# === CONFUSION MATRIX === #\\n\", confusion_matrix(y_true=y_test, y_pred=y_pred))\n",
    "        print(\"\\n\\t\\t# === CLASSIFICATION REPORT === #\\n\\n\", classification_report(y_true=y_test, y_pred=y_pred))\n",
    "    \n",
    "    pred = newData.drop(colToDropForPred, axis=1)\n",
    "    pred.apply(pd.to_numeric)\n",
    "    predictions = clf.predict(pred.values)\n",
    "    return predictions"
   ]
  },
  {
   "cell_type": "code",
   "execution_count": null,
   "metadata": {},
   "outputs": [],
   "source": [
    "#K Neighbors Classifier\n",
    "# Initiate our model\n",
    "def NC(X_train, y_train, print_Flag):\n",
    "    global newData\n",
    "    global colToDropForPred\n",
    "    \n",
    "    hyperparams = {\"n_neighbors\":[11,21,31,41,51]}  # the number of neighbours which will be tested\n",
    "    neighbour_clf = KNeighborsClassifier()  \n",
    "    clf = GridSearchCV(neighbour_clf, hyperparams, cv=10, n_jobs=-1, verbose=True)  # 10-fold cross validation will make sure we're not suffering from overfitting \n",
    "    t1 = time()\n",
    "    clf.fit(X_train, y_train)\n",
    "    print(\"It took {:.2f} seconds\".format(time() - t1))\n",
    "    \n",
    "    \n",
    "    y_pred = clf.predict(X_test)\n",
    "    if print_Flag:\n",
    "        print('----------Neighbour Classifier----------')\n",
    "        print(\"ACCURACY SCORE: \", clf.score(X_test, y_test))\n",
    "        print(\"CROSS VALIDATION ACCURACY SCORE: \", clf.best_score_)\n",
    "        print(\"BEST NUM OF NEIGHBOURS: \", clf.best_params_['n_neighbors'])\n",
    "        print(\"# === CONFUSION MATRIX === #\\n\", confusion_matrix(y_true=y_test, y_pred=y_pred))\n",
    "        print(\"\\n\\t\\t# === CLASSIFICATION REPORT === #\\n\", classification_report(y_true=y_test, y_pred=y_pred))\n",
    "        \n",
    "    pred = newData.drop(colToDropForPred, axis=1)\n",
    "    pred.apply(pd.to_numeric)\n",
    "    predictions = clf.predict(pred.values)\n",
    "    return predictions"
   ]
  },
  {
   "cell_type": "code",
   "execution_count": null,
   "metadata": {},
   "outputs": [],
   "source": [
    "def NBC(X_train, y_train, print_Flag): \n",
    "    global newData\n",
    "    global colToDropForPred\n",
    "    \n",
    "    nb_clf = GaussianNB()\n",
    "    t1 = time()\n",
    "    nb_clf.fit(X_train, y_train)\n",
    "    print(\"It took {:.2f} seconds\".format(time() - t1))\n",
    "    \n",
    "    y_pred = nb_clf.predict(X_test)\n",
    "    if print_Flag:\n",
    "        print('----------GaussianNB Classifier----------')\n",
    "        print(\"ACCURACY SCORE: \", nb_clf.score(X_test, y_test))\n",
    "        print(\"K-Fold Cross Validation Accuracy Score :\", np.mean(cross_val_score(nb_clf, X_train, y_train, cv=10, scoring='accuracy')))\n",
    "        print(\"It took {:.2f} seconds\".format(time() - t1))\n",
    "        print(\"# === CONFUSION MATRIX === #\\n\", confusion_matrix(y_true=y_test, y_pred=y_pred))\n",
    "        print(\"\\n\\t\\t# === CLASSIFICATION REPORT === #\\n\", classification_report(y_true=y_test, y_pred=y_pred))\n",
    "    \n",
    "    pred = newData.drop(colToDropForPred, axis=1)\n",
    "    pred.apply(pd.to_numeric)\n",
    "    predictions = nb_clf.predict(pred.values)\n",
    "    return predictions"
   ]
  },
  {
   "cell_type": "code",
   "execution_count": null,
   "metadata": {},
   "outputs": [],
   "source": [
    "def RFRC(X_train, y_train, print_Flag):\n",
    "    global newData\n",
    "    global colToDropForPred\n",
    "    \n",
    "    RFR = RandomForestRegressor()\n",
    "\n",
    "    parameters = {'n_estimators': [3, 5, 10, 50],\n",
    "                  #'criterion': ['mse'],\n",
    "                  #'max_depth': [5, 10, 15], \n",
    "                  #'min_samples_split': [2, 5, 10],\n",
    "                  'min_samples_leaf': [1,5]\n",
    "                 }\n",
    "\n",
    "    # Run the grid search\n",
    "    grid_obj = GridSearchCV(RFR, parameters, cv=5, n_jobs=-1, verbose=1)\n",
    "    grid_obj = grid_obj.fit(X_train, y_train)\n",
    "\n",
    "    # Set the clf to the best combination of parameters\n",
    "    RFR = grid_obj.best_estimator_\n",
    "\n",
    "    # Fit the best algorithm to the data. \n",
    "    t1 = time()\n",
    "    RFR.fit(X_train, y_train)\n",
    "    print(\"It took {:.2f} seconds\".format(time() - t1))\n",
    "    \n",
    "    y_pred = RFR_clf.predict(X_test)\n",
    "    if print_Flag:\n",
    "        print('----------RandomForestRegressor Classifier----------')\n",
    "        print(\"ACCURACY SCORE: \", RFR.score(X_test, y_test))\n",
    "        print(\"K-Fold Cross Validation Accuracy Score :\", np.mean(cross_val_score(RFR, X_train, y_train, cv=10, scoring='accuracy')))\n",
    "        print(\"It took {:.2f} seconds\".format(time() - t1))\n",
    "        \n",
    "    pred = newData.drop(colToDropForPred, axis=1)\n",
    "    pred.apply(pd.to_numeric)\n",
    "    predictions = nb_clf.predict(pred.values)\n",
    "    return predictions"
   ]
  },
  {
   "cell_type": "code",
   "execution_count": null,
   "metadata": {},
   "outputs": [],
   "source": [
    "def getNewData(newGames):\n",
    "    global data\n",
    "    \n",
    "    K = len(newGames)\n",
    "    N = len(data) - K\n",
    "    newData = data.iloc[N:]\n",
    "    newData = newData.reset_index(drop=True)\n",
    "    data = data[:N]\n",
    "    return newData"
   ]
  },
  {
   "cell_type": "code",
   "execution_count": null,
   "metadata": {},
   "outputs": [],
   "source": [
    "def trainingData(df, target, print_Flag):\n",
    "\n",
    "    train, X_train, X_test, X_val, y_train, y_test, y_val = training(df, target)\n",
    "    print(\"There are {} of samples in the training set\".format(X_train.shape[0]))\n",
    "    print(\"There are {} of samples in the test set\".format(X_test.shape[0]))\n",
    "\n",
    "    t1 = time()\n",
    "    DTC_pred = DTC(X_train, y_train, print_Flag)\n",
    "    print(\"This took \",time() - t1,\" seconds\")\n",
    "    \n",
    "    t1 = time()\n",
    "    NC_pred = NC(X_train, y_train)\n",
    "    print(\"This took \",time() - t1,\" seconds\")\n",
    "    \n",
    "    t1 = time()\n",
    "    NB_pred = NBC(X_train, y_train)\n",
    "    print(\"This took \",time() - t1,\" seconds\")\n",
    "    \n",
    "    t1 = time()\n",
    "    RFR_pred = RFRC(X_train, y_train)\n",
    "    print(\"This took \",time() - t1,\" seconds\")\n",
    "    \n",
    "    return DTC_pred, NC_pred, NB_pred, RFR_pred"
   ]
  },
  {
   "cell_type": "code",
   "execution_count": null,
   "metadata": {},
   "outputs": [],
   "source": [
    "def Result(newData, DTC_clf, NC_clf, NB_clf, RFR_clf):\n",
    "    colToDropForPred = ['Date','HomeTeam','AwayTeam','FTGD','FTR','HTGD','HTR','Referee']\n",
    "    #predTool = [DTC_clf, NC_clf, NB_clf, RFR_clf]\n",
    "\n",
    "    tool = RFR_clf\n",
    "    pred = newData.drop(colToDropForPred, axis=1)\n",
    "    pred.apply(pd.to_numeric)\n",
    "    X = pred.values\n",
    "    predictions = tool.predict(X) \n",
    "    result = pd.DataFrame()\n",
    "    result[colToDropForPred] = newData[colToDropForPred]\n",
    "    result[str(tool) + \"_GD_Predictions\"] = np.around(predictions) #Rounded up\n",
    "\n",
    "    count = 0\n",
    "    for i in range (len(display)):\n",
    "        if(result[str(tool) + \"_GD_Predictions\"][i] > 0 and result[\"FTGD\"][i] > 0): \n",
    "            count+=1\n",
    "        elif(result[str(tool) + \"_GD_Predictions\"][i] == 0 and result[\"FTGD\"][i] == 0): \n",
    "            count+=1\n",
    "        elif(result[str(tool) + \"_GD_Predictions\"][i] < 0 and result[\"FTGD\"][i] < 0): \n",
    "            count+=1\n",
    "\n",
    "        print(\"The Predictions of \" + tool + \" is Currect: \",count,\"/\",len(display),'of times, it:',count/len(display)*100,\"precent\")\n",
    "    result.to_csv(\"result.csv\", index=False, sep=',')"
   ]
  },
  {
   "cell_type": "code",
   "execution_count": null,
   "metadata": {},
   "outputs": [],
   "source": [
    "data = pd.read_csv('projectdata.csv')\n",
    "\n",
    "target = 'FTGD'\n",
    "print_Flag = False\n",
    "colToDropForPred = ['Date','HomeTeam','AwayTeam','FTR','HTGD','HTR','Referee']\n",
    "\n",
    "train = data.drop(colToDropForPred, axis=1)\n",
    "train.apply(pd.to_numeric)\n",
    "train= train.fillna(0)\n",
    "X = train.drop([target], axis=1).values\n",
    "y = train[target].values\n",
    "X_train, X_test, y_train, y_test = train_test_split(X, y, test_size=0.2, random_state=42)\n",
    "X_train, X_val, y_train, y_val = train_test_split(X_train, y_train, test_size=0.2, random_state=1)\n",
    "\n",
    "t1 = time()\n",
    "RFR = RandomForestRegressor()\n",
    "\n",
    "parameters = {'n_estimators': [3, 5, 10, 50],\n",
    "              #'criterion': ['mse'],\n",
    "              #'max_depth': [5, 10, 15], \n",
    "              #'min_samples_split': [2, 5, 10],\n",
    "              'min_samples_leaf': [1,5]\n",
    "             }\n",
    "\n",
    "# Run the grid search\n",
    "grid_obj = GridSearchCV(RFR, parameters, cv=5, n_jobs=-1, verbose=1)\n",
    "grid_obj = grid_obj.fit(X_train, y_train)\n",
    "\n",
    "# Set the clf to the best combination of parameters\n",
    "RFR = grid_obj.best_estimator_\n",
    "\n",
    "# Fit the best algorithm to the data. \n",
    "t1 = time()\n",
    "RFR.fit(X_train, y_train)\n",
    "print(\"It took {:.2f} seconds\".format(time() - t1))\n",
    "\n",
    "y_pred = RFR.predict(X_test)\n",
    "if print_Flag:\n",
    "    print('----------RandomForestRegressor Classifier----------')\n",
    "    print(\"ACCURACY SCORE: \", RFR.score(X_test, y_test))\n",
    "    print(\"K-Fold Cross Validation Accuracy Score :\", np.mean(cross_val_score(RFR, X_train, y_train, cv=10, scoring='accuracy')))\n",
    "    print(\"It took {:.2f} seconds\".format(time() - t1))\n",
    "\n"
   ]
  },
  {
   "cell_type": "code",
   "execution_count": null,
   "metadata": {},
   "outputs": [],
   "source": [
    "print('----------RandomForestRegressor Classifier----------')\n",
    "print(\"ACCURACY SCORE: \", RFR.score(X_test, y_test))\n",
    "print(\"K-Fold Cross Validation Accuracy Score :\", np.mean(cross_val_score(RFR, X_train, y_train, cv=10, scoring='accuracy')))\n",
    "print(\"It took {:.2f} seconds\".format(time() - t1))\n"
   ]
  },
  {
   "cell_type": "code",
   "execution_count": null,
   "metadata": {},
   "outputs": [],
   "source": [
    "CSV_Name = 'season-1920_csv.csv'\n",
    "#newGames = pd.read_csv(CSV_Name)\n",
    "#games(newGames)\n",
    "#newData = getNewData(newGames)\n",
    "newData = pd.read_csv('newGames111.csv')\n",
    "#newData.fillna(0)\n",
    "\n",
    "colToDropForPred2 = ['Date','HomeTeam','AwayTeam','FTR','HTGD','HTR','Referee','FTGD']\n",
    "pred = newData.drop(colToDropForPred2, axis=1)\n",
    "pred.apply(pd.to_numeric)\n",
    "X = pred.values\n",
    "#X = X[np.logical_not(np.isnan(X))]\n",
    "#X.fillna(0)\n",
    "#print(type(X))\n",
    "predictions = RFR.predict(X)\n",
    "result = pd.DataFrame()\n",
    "result[colToDropForPred2] = newData[colToDropForPred2]\n",
    "result[str(tool) + \"_GD_Predictions\"] = np.around(predictions) #Rounded up\n",
    "\n",
    "count = 0\n",
    "for i in range (len(display)):\n",
    "    if(result[str(tool) + \"_GD_Predictions\"][i] > 0 and result[\"FTGD\"][i] > 0): \n",
    "        count+=1\n",
    "    elif(result[str(tool) + \"_GD_Predictions\"][i] == 0 and result[\"FTGD\"][i] == 0): \n",
    "        count+=1\n",
    "    elif(result[str(tool) + \"_GD_Predictions\"][i] < 0 and result[\"FTGD\"][i] < 0): \n",
    "        count+=1\n",
    "\n",
    "print(\"The Predictions of \" + tool + \" is Currect: \",count,\"/\",len(display),'of times, it:',count/len(display)*100,\"precent\")\n",
    "result.to_csv(str(tool) + \"result.csv\", index=False, sep=',')"
   ]
  },
  {
   "cell_type": "code",
   "execution_count": null,
   "metadata": {},
   "outputs": [],
   "source": [
    "#data = pd.read_csv('projectdata.csv')\n",
    "CSV_Name = 'season-1920_csv.csv'\n",
    "newGames = pd.read_csv(CSV_Name)\n",
    "games(newGames)\n",
    "newData = getNewData(newGames)\n",
    "#newData.fillna(0)\n",
    "#target = 'FTGD'\n",
    "#print_Flag = False\n",
    "\n",
    "#DTC_clf, NC_clf, NB_clf, RFR_clf = trainingData(data, target, print_Flag)\n",
    "#Result(newData, DTC_clf, NC_clf, NB_clf, RFR_clf)\n",
    "\n",
    "newData.to_csv(\"result.csv\", index=False, sep=',')"
   ]
  },
  {
   "cell_type": "code",
   "execution_count": null,
   "metadata": {},
   "outputs": [],
   "source": [
    "#Future Matches\n",
    "target = 'FTGD'\n",
    "print_Flag = False\n",
    "\n",
    "CSV_Name = 'newGames.csv'\n",
    "newGames = pd.read_csv(CSV_Name)\n",
    "games(newGames)\n",
    "newData = getNewData(newGames)\n",
    "Result(newData, trainingData(df, target, print_Flag))"
   ]
  },
  {
   "cell_type": "code",
   "execution_count": null,
   "metadata": {},
   "outputs": [],
   "source": [
    "df_SVLR = train.drop(['HomeGoals','AwayGoals'], axis=1) \n",
    "idx = 1\n",
    "summary = []\n",
    "plt.figure(figsize=(30,20))\n",
    "plt.suptitle(\"Single Variate Linear Regression\", size=20)\n",
    "for col in df_SVLR.columns:\n",
    "    \n",
    "    formula = \"FTGD ~ \" + col\n",
    "    \n",
    "    single_variate_lin_reg = sm.ols(formula=formula, data=df_SVLR).fit()\n",
    "    summary.append(single_variate_lin_reg.summary())\n",
    "    plt.subplot(10, 4, idx)\n",
    "    idx += 1\n",
    "    plt.title(col)\n",
    "    sns.scatterplot(data=df_SVLR, x=col, y=\"H_Wins\")\n",
    "    sns.lineplot(data=df_SVLR, x=\"A_Wins\", y=single_variate_lin_reg.predict())\n",
    "plt.show()"
   ]
  },
  {
   "cell_type": "code",
   "execution_count": null,
   "metadata": {},
   "outputs": [],
   "source": [
    "for col in range(len(df_SVLR.columns)):\n",
    "    print(df_SVLR.columns[col])\n",
    "    print(summary[col])\n",
    "    print(\"-\"*78)"
   ]
  },
  {
   "cell_type": "code",
   "execution_count": null,
   "metadata": {},
   "outputs": [],
   "source": [
    "df_SVLR.describe().T"
   ]
  },
  {
   "cell_type": "code",
   "execution_count": null,
   "metadata": {},
   "outputs": [],
   "source": [
    "target = 'VSNum'\n",
    "cols = df_SVLR.columns[(df_SVLR.columns != target)]\n",
    "cols = \"+\".join(cols)\n",
    "formula = target + \" ~ \" + cols\n",
    "\n",
    "multivariate_linear_regression = sm.ols(formula=formula, data=df_SVLR).fit()\n",
    "multivariate_linear_regression.summary()"
   ]
  },
  {
   "cell_type": "code",
   "execution_count": null,
   "metadata": {},
   "outputs": [],
   "source": []
  },
  {
   "cell_type": "code",
   "execution_count": null,
   "metadata": {},
   "outputs": [],
   "source": []
  },
  {
   "cell_type": "code",
   "execution_count": null,
   "metadata": {},
   "outputs": [],
   "source": []
  }
 ],
 "metadata": {
  "kernelspec": {
   "display_name": "Python 3",
   "language": "python",
   "name": "python3"
  },
  "language_info": {
   "codemirror_mode": {
    "name": "ipython",
    "version": 3
   },
   "file_extension": ".py",
   "mimetype": "text/x-python",
   "name": "python",
   "nbconvert_exporter": "python",
   "pygments_lexer": "ipython3",
   "version": "3.7.4"
  }
 },
 "nbformat": 4,
 "nbformat_minor": 2
}
